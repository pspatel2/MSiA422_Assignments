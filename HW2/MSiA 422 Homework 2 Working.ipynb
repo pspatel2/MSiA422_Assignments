{
 "cells": [
  {
   "cell_type": "code",
   "execution_count": 230,
   "metadata": {},
   "outputs": [],
   "source": [
    "import time"
   ]
  },
  {
   "cell_type": "code",
   "execution_count": 349,
   "metadata": {},
   "outputs": [],
   "source": [
    "class sorting(object):\n",
    "    def __init__(self,a_list,reverse,key_in=lambda x:x):\n",
    "        self.list_in = a_list\n",
    "        self.key = key_in\n",
    "        self.rev_flag = reverse\n",
    "\n",
    "    def get_list(self):\n",
    "        return self.list_in\n",
    "        \n",
    "    def bubble_sort(self):\n",
    "        start_time = time.time()\n",
    "        nComp = 0\n",
    "        nSwap = 0\n",
    "        [key(self.list_in[i]) for i in range(len(self.list_in))]\n",
    "        for pass_num in range(len(self.list_in) - 1, 0, -1):\n",
    "            for i in range(pass_num):\n",
    "                nComp += 1\n",
    "                if self.list_in[i] > self.list_in[i + 1]:                \n",
    "                    self.list_in[i],self.list_in[i + 1] = self.list_in[i + 1] ,self.list_in[i]\n",
    "                    nSwap+=1\n",
    "        end_time = time.time()\n",
    "        return(self.list_in, nComp, nSwap,end_time-start_time)\n",
    "        \n",
    "    def merge_sort(self,a_list):\n",
    "        nComp = 0\n",
    "        nSwap = 0\n",
    "        start_time = time.time()\n",
    "        if len(a_list) > 1:\n",
    "            \n",
    "            [key(a_list[i]) for i in range(len(a_list))]\n",
    "            \n",
    "            mid = len(a_list) // 2\n",
    "            left_half = a_list[:mid]\n",
    "            right_half = a_list[mid:]\n",
    "            self.merge_sort(left_half)\n",
    "            self.merge_sort(right_half)\n",
    "\n",
    "            i = 0\n",
    "            j = 0\n",
    "            k = 0\n",
    "\n",
    "\n",
    "            while i < len(left_half) and j < len(right_half):\n",
    "                nComp += 1\n",
    "                if left_half[i] < right_half[j]:\n",
    "                    nSwap+=1\n",
    "                    a_list[k] = left_half[i]\n",
    "                    i = i + 1\n",
    "                else:\n",
    "                    a_list[k] = right_half[j]\n",
    "                    j = j + 1\n",
    "                k = k + 1\n",
    "\n",
    "            while i < len(left_half):\n",
    "                a_list[k] = left_half[i]\n",
    "                i = i + 1\n",
    "                k = k + 1\n",
    "\n",
    "            while j < len(right_half):\n",
    "                a_list[k] = right_half[j]\n",
    "                j = j + 1\n",
    "                k = k + 1\n",
    "        end_time = time.time()\n",
    "        return(a_list,nComp,nSwap,end_time-start_time)\n"
   ]
  },
  {
   "cell_type": "code",
   "execution_count": 350,
   "metadata": {},
   "outputs": [],
   "source": [
    "a = [1,6,4,3,10,9]\n",
    "reverser = False"
   ]
  },
  {
   "cell_type": "code",
   "execution_count": 351,
   "metadata": {},
   "outputs": [],
   "source": [
    "test = sorting(a,reverser)"
   ]
  },
  {
   "cell_type": "code",
   "execution_count": 353,
   "metadata": {},
   "outputs": [],
   "source": [
    "out = test.bubble_sort()"
   ]
  },
  {
   "cell_type": "code",
   "execution_count": 358,
   "metadata": {},
   "outputs": [
    {
     "data": {
      "text/plain": [
       "0.0"
      ]
     },
     "execution_count": 358,
     "metadata": {},
     "output_type": "execute_result"
    }
   ],
   "source": [
    "out[3]"
   ]
  },
  {
   "cell_type": "code",
   "execution_count": 297,
   "metadata": {},
   "outputs": [],
   "source": [
    "a = [random.randint(0,10) for i in range(50)]\n",
    "# a = [1,5,8,4,2,10,65,30,2,1]\n",
    "reverser = False"
   ]
  },
  {
   "cell_type": "code",
   "execution_count": 383,
   "metadata": {},
   "outputs": [],
   "source": [
    "import timeit\n",
    "def compare_times():\n",
    "    N_vals = [10,100,200,500]\n",
    "    t1 = []\n",
    "    t2 = []\n",
    "    t3 = []\n",
    "    for n in N_vals:\n",
    "        l = [random.randint(0,100) for i in range(n)]\n",
    "        inp1 = sorting(l,False)\n",
    "        inp2 = sorting(l,False)\n",
    "        \n",
    "        t1.append(timeit.timeit(lambda:inp1.bubble_sort(),number =1))\n",
    "        t2.append(timeit.timeit(lambda: inp2.merge_sort(inp2.get_list()),number =1))\n",
    "        t3.append(timeit.timeit(lambda: sorted(l),number =1))\n",
    "        \n",
    "    return [t1,t2,t3]"
   ]
  },
  {
   "cell_type": "code",
   "execution_count": 384,
   "metadata": {},
   "outputs": [],
   "source": [
    "times_bubble, times_merge, times_sorted = compare_times()"
   ]
  },
  {
   "cell_type": "code",
   "execution_count": 385,
   "metadata": {},
   "outputs": [
    {
     "data": {
      "text/plain": [
       "[2.1500000002561137e-05,\n",
       " 0.0017002000004140427,\n",
       " 0.010605499999655876,\n",
       " 0.035889499999029795]"
      ]
     },
     "execution_count": 385,
     "metadata": {},
     "output_type": "execute_result"
    }
   ],
   "source": [
    "times_bubble"
   ]
  },
  {
   "cell_type": "code",
   "execution_count": 386,
   "metadata": {},
   "outputs": [],
   "source": [
    "import matplotlib.pyplot as plt"
   ]
  },
  {
   "cell_type": "code",
   "execution_count": 387,
   "metadata": {},
   "outputs": [
    {
     "data": {
      "text/plain": [
       "[<matplotlib.lines.Line2D at 0x1cd9f1183c8>]"
      ]
     },
     "execution_count": 387,
     "metadata": {},
     "output_type": "execute_result"
    },
    {
     "data": {
      "image/png": "[encoded data removed]",
      "text/plain": [
       "<Figure size 432x288 with 1 Axes>"
      ]
     },
     "metadata": {
      "needs_background": "light"
     },
     "output_type": "display_data"
    }
   ],
   "source": [
    "N_vals = [10,100,200,500]\n",
    "plt.plot(N_vals,times_bubble)\n",
    "plt.plot(N_vals,times_merge)\n",
    "plt.plot(N_vals,times_sorted)"
   ]
  },
  {
   "cell_type": "code",
   "execution_count": null,
   "metadata": {},
   "outputs": [],
   "source": []
  }
 ],
 "metadata": {
  "kernelspec": {
   "display_name": "Python 3",
   "language": "python",
   "name": "python3"
  },
  "language_info": {
   "codemirror_mode": {
    "name": "ipython",
    "version": 3
   },
   "file_extension": ".py",
   "mimetype": "text/x-python",
   "name": "python",
   "nbconvert_exporter": "python",
   "pygments_lexer": "ipython3",
   "version": "3.7.3"
  }
 },
 "nbformat": 4,
 "nbformat_minor": 2
}
