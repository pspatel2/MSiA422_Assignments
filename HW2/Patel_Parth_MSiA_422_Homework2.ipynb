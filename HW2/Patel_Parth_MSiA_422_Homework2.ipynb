{
 "cells": [
  {
   "cell_type": "markdown",
   "metadata": {},
   "source": [
    "# MSiA 422 Homework 2 -- Written by Parth Patel"
   ]
  },
  {
   "cell_type": "markdown",
   "metadata": {},
   "source": [
    "## Write a a class that offers 2 functions that works exactly like the sorted() built-in function in python"
   ]
  },
  {
   "cell_type": "markdown",
   "metadata": {},
   "source": [
    "### Report Table of Conents:\n",
    "\n",
    "i) Package Imports & Class Definition<br>\n",
    "ii) Sorting Methods Performance Comparison<br>\n",
    "iii) Other Test Cases and Examples<br>\n",
    "\n",
    "*** THE CODE IS MEANT TO BE RUN SEQUENTIALLY IN THIS NOTEBOOK\n",
    "** Once the class defition is ran you can define instances and run things as you please.  Please refer to the text prior to the class definition to understand the args requried and the output"
   ]
  },
  {
   "cell_type": "markdown",
   "metadata": {},
   "source": [
    "### Part i) Package Imports & Class Definition"
   ]
  },
  {
   "cell_type": "markdown",
   "metadata": {},
   "source": [
    "import packages needed for reporting performance of the sort functions"
   ]
  },
  {
   "cell_type": "code",
   "execution_count": 11,
   "metadata": {},
   "outputs": [],
   "source": [
    "import time  ##used for returning time measure when a given sort function is called on its own\n",
    "import timeit ##used for coparing the two sort functions for reporting performance\n",
    "import matplotlib.pyplot as plt  ##used for generating performance comparison plot\n",
    "import random ##used for random generation of data for performance comparison and test cases"
   ]
  },
  {
   "cell_type": "markdown",
   "metadata": {},
   "source": [
    "### Define the class that has bubble and merge sorting methods\n",
    "\n",
    "Each class object must be initialized with three inputs:<br>\n",
    "- iterable of objects: any list of objects (of the same type, e.g. list of numbers, list of strings, list of lists)<br>\n",
    "- key: A custom key function can be supplied to customize the sort order, e.g. for sorting list can provide key str.lower(); defaults to None so do not supply anything unless desired<br>\n",
    "- reversed: A flag field that allows the order of sort to be defined.  E.g. if descending order sort is desired supply True.  If ascending order is desired supply True or do not provide the arg as it is defaulted to True\n",
    "\n",
    "The class has three methods defined:<br>\n",
    "- get_list() returns the list that the class object was initialized with<br>\n",
    "- bubble_sort() implements a bubble sort algorithm on inputted list and returns a tuple.  The tuple contains the following: (sorted list, number of comparison performed during sorting, number of swaps performed during sorting, time elapsed)<br>\n",
    "- merge_sort() requires an additional input which is the list desired to be sorted (use get_list() method when calling) and it then applies a merge sort algorithm and returns a tuple.  The tuple contains the following: (sorted list, number of comparison performed during sorting, number of swaps performed during sorting, time elapsed"
   ]
  },
  {
   "cell_type": "code",
   "execution_count": 12,
   "metadata": {},
   "outputs": [],
   "source": [
    "#class will inherit the base object class\n",
    "class MySorted(object):\n",
    "    '''\n",
    "    A class that offers 2  sorting functions (bubble and merge algorithms) which receives inputs exactly like the sorted() built-in\n",
    "    function in python.\n",
    "    \n",
    "    inputs: iterable of objects: any list of objects (of the same type, e.g. list of numbers, list of strings, list of lists)\n",
    "    key: A custom key function can be supplied to customize the sort order, e.g. for sorting list can provide key str.lower(); defaults to None so do not supply anything unless desired\n",
    "    reversed: A flag field that allows the order of sort to be defined. E.g. if descending order sort is desired supply True. If ascending order is desired supply True or do not provide the arg as it is defaulted to True\n",
    "    \n",
    "    '''\n",
    "    #per instructions the class is required to have 3 input parameters: iterable of objects, key, and reversed. \n",
    "    def __init__(self,a_list,reverse=False,key_in=lambda x:x):\n",
    "        self.list_in = a_list\n",
    "        self.key = key_in\n",
    "        if reverse == True or reverse == False:\n",
    "            self.rev_flag = reverse\n",
    "        else:\n",
    "            raise ValueError(\"Reversed field supplied must be True or False\")\n",
    "\n",
    "    #method to return the supplied list\n",
    "    def get_list(self):\n",
    "        '''\n",
    "        input: none (method of MySorted class instance)\n",
    "        output: returns the iterable of objects for instance of class MySorted\n",
    "        '''\n",
    "        return self.list_in\n",
    "    \n",
    "    #class method for implementing a bubble sort algorithm to the supplied list\n",
    "    def bubble_sort(self):\n",
    "        '''\n",
    "        input: none (method of MySorted class instance)\n",
    "        output: method that sorts (via bubble sort algorithm) the iterable of objects associated for an instance of MySorted class\n",
    "        '''\n",
    "        start_time = time.time()\n",
    "        nComp = 0\n",
    "        nSwap = 0\n",
    "        if self.rev_flag == False:\n",
    "            for pass_num in range(len(self.list_in) - 1, 0, -1):\n",
    "                for i in range(pass_num):\n",
    "                    nComp += 1\n",
    "                    if self.key(self.list_in[i]) > self.key(self.list_in[i + 1]):                \n",
    "                        self.list_in[i],self.list_in[i + 1] = self.list_in[i + 1] ,self.list_in[i]\n",
    "                        nSwap+=1\n",
    "            end_time = time.time()\n",
    "        else:\n",
    "            for pass_num in range(len(self.list_in) - 1, 0, -1):\n",
    "                for i in range(pass_num):\n",
    "                    nComp += 1\n",
    "                    if self.key(self.list_in[i]) < self.key(self.list_in[i + 1]):                \n",
    "                        self.list_in[i],self.list_in[i + 1] = self.list_in[i + 1] ,self.list_in[i]\n",
    "                        nSwap+=1\n",
    "            end_time = time.time()\n",
    "        return(self.list_in, nComp, nSwap,end_time-start_time)\n",
    "    \n",
    "    #class method for implementing a merge sort algorithm to the supplied list\n",
    "    def merge_sort(self,a_list):\n",
    "        '''\n",
    "        input: iterable of objects (use get_list() method on desired instance of MySorted as the arg when calling)\n",
    "        output: method that sorts (via merge sort algorithm) the iterable of objects associated for an instance of MySorted class\n",
    "        '''\n",
    "        nComp = 0\n",
    "        nSwap = 0\n",
    "        lft_comp = 0\n",
    "        rgt_comp = 0\n",
    "        lft_swap = 0\n",
    "        rgt_swap = 0\n",
    "        start_time = time.time()\n",
    "        if len(a_list) > 1:   \n",
    "            mid = len(a_list) // 2\n",
    "            left_half = a_list[:mid]\n",
    "            right_half = a_list[mid:]\n",
    "            _,lft_comp,lft_swap,_ = self.merge_sort(left_half)\n",
    "            _,rgt_comp,rgt_swap,_ = self.merge_sort(right_half)\n",
    "\n",
    "            i = 0\n",
    "            j = 0\n",
    "            k = 0\n",
    "\n",
    "            if self.rev_flag == False:\n",
    "                while i < len(left_half) and j < len(right_half):\n",
    "                    nComp += 1\n",
    "                    if self.key(left_half[i]) < self.key(right_half[j]):\n",
    "                        nSwap+=1\n",
    "                        a_list[k] = left_half[i]\n",
    "                        i = i + 1\n",
    "                    else:\n",
    "                        a_list[k] = right_half[j]\n",
    "                        j = j + 1\n",
    "                    k = k + 1\n",
    "            else:\n",
    "                while i < len(left_half) and j < len(right_half):\n",
    "                    nComp += 1\n",
    "                    if self.key(left_half[i]) > self.key(right_half[j]):\n",
    "                        nSwap+=1\n",
    "                        a_list[k] = left_half[i]\n",
    "                        i = i + 1\n",
    "                    else:\n",
    "                        a_list[k] = right_half[j]\n",
    "                        j = j + 1\n",
    "                    k = k + 1\n",
    "\n",
    "            while i < len(left_half):\n",
    "                a_list[k] = left_half[i]\n",
    "                i = i + 1\n",
    "                k = k + 1\n",
    "\n",
    "            while j < len(right_half):\n",
    "                a_list[k] = right_half[j]\n",
    "                j = j + 1\n",
    "                k = k + 1\n",
    "        end_time = time.time()\n",
    "        return(a_list,nComp+lft_comp+rgt_comp,nSwap+lft_swap+rgt_swap,end_time-start_time)\n"
   ]
  },
  {
   "cell_type": "markdown",
   "metadata": {},
   "source": [
    "### Part ii) Package Imports & Class Definition"
   ]
  },
  {
   "cell_type": "markdown",
   "metadata": {},
   "source": [
    "The function, compare_times, below generates random lists of specified sizes and then calls 3 different sorting function (bubble, merge, sorted) to sort the same list and record the time elapsed for each to excecute the task.  The function returns a list of lists that contains the execution time for different sized lists across each of the three methods.  E.g. t1 contains the time required to sort lists of different specified lengths for the bubble sort, t2 contains the same info but for merge sort, and t3 for sorted"
   ]
  },
  {
   "cell_type": "code",
   "execution_count": 13,
   "metadata": {},
   "outputs": [],
   "source": [
    "def compare_times():\n",
    "    '''\n",
    "    Def: generates random lists of specified sizes\\\n",
    "    Input: None\n",
    "    Output: returns a list of lists that contains the execution time for different sized lists across three (bubble, merged, Sorted) sorting algorithms\n",
    "    '''\n",
    "    N_vals = [10,100,200,500]\n",
    "    t1 = []\n",
    "    t2 = []\n",
    "    t3 = []\n",
    "    for n in N_vals:\n",
    "        l = [random.randint(0,100) for i in range(n)]\n",
    "        inp1 = MySorted(l,False)\n",
    "        inp2 = MySorted(l,False)\n",
    "        \n",
    "        t1.append(timeit.timeit(lambda:inp1.bubble_sort(),number =1))\n",
    "        t2.append(timeit.timeit(lambda: inp2.merge_sort(inp2.get_list()),number =1))\n",
    "        t3.append(timeit.timeit(lambda: sorted(l),number =1))\n",
    "        \n",
    "    return [t1,t2,t3]"
   ]
  },
  {
   "cell_type": "markdown",
   "metadata": {},
   "source": [
    "Call the function to gather execution time information"
   ]
  },
  {
   "cell_type": "code",
   "execution_count": 14,
   "metadata": {
    "scrolled": true
   },
   "outputs": [],
   "source": [
    "times_bubble, times_merge, times_sorted = compare_times()"
   ]
  },
  {
   "cell_type": "markdown",
   "metadata": {},
   "source": [
    "Plot the comparison results"
   ]
  },
  {
   "cell_type": "code",
   "execution_count": 15,
   "metadata": {},
   "outputs": [
    {
     "data": {
      "text/plain": [
       "<matplotlib.legend.Legend at 0x1cc51ef4e48>"
      ]
     },
     "execution_count": 15,
     "metadata": {},
     "output_type": "execute_result"
    },
    {
     "data": {
      "image/png": "[encoded data removed]",
      "text/plain": [
       "<Figure size 864x432 with 1 Axes>"
      ]
     },
     "metadata": {
      "needs_background": "light"
     },
     "output_type": "display_data"
    }
   ],
   "source": [
    "N_vals = [10,100,200,500]\n",
    "plt.figure(figsize = (12,6))\n",
    "plt.plot(N_vals,times_bubble,label = 'Bubble')\n",
    "plt.plot(N_vals,times_merge, label = 'Merge')\n",
    "plt.plot(N_vals,times_sorted, label = 'Sorted')\n",
    "plt.xlabel('Length of List (N)',fontsize=16)\n",
    "plt.ylabel('Execution Time (s)',fontsize=16)\n",
    "plt.title('Performance (execution time) of Various Sort Methods vs Length of List',fontsize=18)\n",
    "plt.xticks(fontsize=14)\n",
    "plt.yticks(fontsize=14)\n",
    "plt.legend(fontsize = 14)"
   ]
  },
  {
   "cell_type": "markdown",
   "metadata": {},
   "source": [
    "Summary table of the comparison results"
   ]
  },
  {
   "cell_type": "code",
   "execution_count": 16,
   "metadata": {},
   "outputs": [
    {
     "data": {
      "text/html": [
       "<div>\n",
       "<style scoped>\n",
       "    .dataframe tbody tr th:only-of-type {\n",
       "        vertical-align: middle;\n",
       "    }\n",
       "\n",
       "    .dataframe tbody tr th {\n",
       "        vertical-align: top;\n",
       "    }\n",
       "\n",
       "    .dataframe thead th {\n",
       "        text-align: right;\n",
       "    }\n",
       "</style>\n",
       "<table border=\"1\" class=\"dataframe\">\n",
       "  <thead>\n",
       "    <tr style=\"text-align: right;\">\n",
       "      <th></th>\n",
       "      <th>0</th>\n",
       "      <th>1</th>\n",
       "      <th>2</th>\n",
       "      <th>3</th>\n",
       "    </tr>\n",
       "  </thead>\n",
       "  <tbody>\n",
       "    <tr>\n",
       "      <th>0</th>\n",
       "      <td>0.000025</td>\n",
       "      <td>0.002132</td>\n",
       "      <td>0.009250</td>\n",
       "      <td>0.053519</td>\n",
       "    </tr>\n",
       "    <tr>\n",
       "      <th>1</th>\n",
       "      <td>0.000040</td>\n",
       "      <td>0.000328</td>\n",
       "      <td>0.000797</td>\n",
       "      <td>0.002238</td>\n",
       "    </tr>\n",
       "    <tr>\n",
       "      <th>2</th>\n",
       "      <td>0.000002</td>\n",
       "      <td>0.000003</td>\n",
       "      <td>0.000016</td>\n",
       "      <td>0.000006</td>\n",
       "    </tr>\n",
       "  </tbody>\n",
       "</table>\n",
       "</div>"
      ],
      "text/plain": [
       "          0         1         2         3\n",
       "0  0.000025  0.002132  0.009250  0.053519\n",
       "1  0.000040  0.000328  0.000797  0.002238\n",
       "2  0.000002  0.000003  0.000016  0.000006"
      ]
     },
     "execution_count": 16,
     "metadata": {},
     "output_type": "execute_result"
    }
   ],
   "source": [
    "import pandas as pd\n",
    "pd.DataFrame([times_bubble, times_merge, times_sorted])"
   ]
  },
  {
   "cell_type": "code",
   "execution_count": 17,
   "metadata": {},
   "outputs": [
    {
     "data": {
      "text/html": [
       "<div>\n",
       "<style scoped>\n",
       "    .dataframe tbody tr th:only-of-type {\n",
       "        vertical-align: middle;\n",
       "    }\n",
       "\n",
       "    .dataframe tbody tr th {\n",
       "        vertical-align: top;\n",
       "    }\n",
       "\n",
       "    .dataframe thead th {\n",
       "        text-align: right;\n",
       "    }\n",
       "</style>\n",
       "<table border=\"1\" class=\"dataframe\">\n",
       "  <thead>\n",
       "    <tr style=\"text-align: right;\">\n",
       "      <th></th>\n",
       "      <th>Length of List(N)</th>\n",
       "      <th>Bubble Sort Time (s)</th>\n",
       "      <th>Merge Sort Time (s)</th>\n",
       "      <th>Sorted Sort Time (s)</th>\n",
       "    </tr>\n",
       "  </thead>\n",
       "  <tbody>\n",
       "    <tr>\n",
       "      <th>0</th>\n",
       "      <td>10</td>\n",
       "      <td>0.000025</td>\n",
       "      <td>0.000040</td>\n",
       "      <td>0.000002</td>\n",
       "    </tr>\n",
       "    <tr>\n",
       "      <th>1</th>\n",
       "      <td>100</td>\n",
       "      <td>0.002132</td>\n",
       "      <td>0.000328</td>\n",
       "      <td>0.000003</td>\n",
       "    </tr>\n",
       "    <tr>\n",
       "      <th>2</th>\n",
       "      <td>200</td>\n",
       "      <td>0.009250</td>\n",
       "      <td>0.000797</td>\n",
       "      <td>0.000016</td>\n",
       "    </tr>\n",
       "    <tr>\n",
       "      <th>3</th>\n",
       "      <td>500</td>\n",
       "      <td>0.053519</td>\n",
       "      <td>0.002238</td>\n",
       "      <td>0.000006</td>\n",
       "    </tr>\n",
       "  </tbody>\n",
       "</table>\n",
       "</div>"
      ],
      "text/plain": [
       "   Length of List(N)  Bubble Sort Time (s)  Merge Sort Time (s)  \\\n",
       "0                 10              0.000025             0.000040   \n",
       "1                100              0.002132             0.000328   \n",
       "2                200              0.009250             0.000797   \n",
       "3                500              0.053519             0.002238   \n",
       "\n",
       "   Sorted Sort Time (s)  \n",
       "0              0.000002  \n",
       "1              0.000003  \n",
       "2              0.000016  \n",
       "3              0.000006  "
      ]
     },
     "execution_count": 17,
     "metadata": {},
     "output_type": "execute_result"
    }
   ],
   "source": [
    "df= pd.DataFrame({'Length of List(N)':N_vals,'Bubble Sort Time (s)': times_bubble,'Merge Sort Time (s)': times_merge,'Sorted Sort Time (s)': times_sorted})\n",
    "df"
   ]
  },
  {
   "cell_type": "code",
   "execution_count": 18,
   "metadata": {},
   "outputs": [
    {
     "data": {
      "text/html": [
       "<div>\n",
       "<style scoped>\n",
       "    .dataframe tbody tr th:only-of-type {\n",
       "        vertical-align: middle;\n",
       "    }\n",
       "\n",
       "    .dataframe tbody tr th {\n",
       "        vertical-align: top;\n",
       "    }\n",
       "\n",
       "    .dataframe thead th {\n",
       "        text-align: right;\n",
       "    }\n",
       "</style>\n",
       "<table border=\"1\" class=\"dataframe\">\n",
       "  <thead>\n",
       "    <tr style=\"text-align: right;\">\n",
       "      <th></th>\n",
       "      <th>Length of List(N)</th>\n",
       "      <th>Bubble Sort Time (s)</th>\n",
       "      <th>Merge Sort Time (s)</th>\n",
       "      <th>Sorted Sort Time (s)</th>\n",
       "    </tr>\n",
       "  </thead>\n",
       "  <tbody>\n",
       "    <tr>\n",
       "      <th>count</th>\n",
       "      <td>4.000000</td>\n",
       "      <td>4.000000</td>\n",
       "      <td>4.000000</td>\n",
       "      <td>4.000000</td>\n",
       "    </tr>\n",
       "    <tr>\n",
       "      <th>mean</th>\n",
       "      <td>202.500000</td>\n",
       "      <td>0.016232</td>\n",
       "      <td>0.000851</td>\n",
       "      <td>0.000007</td>\n",
       "    </tr>\n",
       "    <tr>\n",
       "      <th>std</th>\n",
       "      <td>212.974959</td>\n",
       "      <td>0.025170</td>\n",
       "      <td>0.000976</td>\n",
       "      <td>0.000007</td>\n",
       "    </tr>\n",
       "    <tr>\n",
       "      <th>min</th>\n",
       "      <td>10.000000</td>\n",
       "      <td>0.000025</td>\n",
       "      <td>0.000040</td>\n",
       "      <td>0.000002</td>\n",
       "    </tr>\n",
       "    <tr>\n",
       "      <th>25%</th>\n",
       "      <td>77.500000</td>\n",
       "      <td>0.001606</td>\n",
       "      <td>0.000256</td>\n",
       "      <td>0.000002</td>\n",
       "    </tr>\n",
       "    <tr>\n",
       "      <th>50%</th>\n",
       "      <td>150.000000</td>\n",
       "      <td>0.005691</td>\n",
       "      <td>0.000563</td>\n",
       "      <td>0.000004</td>\n",
       "    </tr>\n",
       "    <tr>\n",
       "      <th>75%</th>\n",
       "      <td>275.000000</td>\n",
       "      <td>0.020317</td>\n",
       "      <td>0.001157</td>\n",
       "      <td>0.000008</td>\n",
       "    </tr>\n",
       "    <tr>\n",
       "      <th>max</th>\n",
       "      <td>500.000000</td>\n",
       "      <td>0.053519</td>\n",
       "      <td>0.002238</td>\n",
       "      <td>0.000016</td>\n",
       "    </tr>\n",
       "  </tbody>\n",
       "</table>\n",
       "</div>"
      ],
      "text/plain": [
       "       Length of List(N)  Bubble Sort Time (s)  Merge Sort Time (s)  \\\n",
       "count           4.000000              4.000000             4.000000   \n",
       "mean          202.500000              0.016232             0.000851   \n",
       "std           212.974959              0.025170             0.000976   \n",
       "min            10.000000              0.000025             0.000040   \n",
       "25%            77.500000              0.001606             0.000256   \n",
       "50%           150.000000              0.005691             0.000563   \n",
       "75%           275.000000              0.020317             0.001157   \n",
       "max           500.000000              0.053519             0.002238   \n",
       "\n",
       "       Sorted Sort Time (s)  \n",
       "count              4.000000  \n",
       "mean               0.000007  \n",
       "std                0.000007  \n",
       "min                0.000002  \n",
       "25%                0.000002  \n",
       "50%                0.000004  \n",
       "75%                0.000008  \n",
       "max                0.000016  "
      ]
     },
     "execution_count": 18,
     "metadata": {},
     "output_type": "execute_result"
    }
   ],
   "source": [
    "df.describe()"
   ]
  },
  {
   "cell_type": "markdown",
   "metadata": {},
   "source": [
    "### Part iii) Other Test Cases and Examples"
   ]
  },
  {
   "cell_type": "markdown",
   "metadata": {},
   "source": [
    "#### Verify that the bubble and merge algorithms work on lists comprised of different object types"
   ]
  },
  {
   "cell_type": "markdown",
   "metadata": {},
   "source": [
    "test on list of strings"
   ]
  },
  {
   "cell_type": "code",
   "execution_count": 19,
   "metadata": {},
   "outputs": [
    {
     "name": "stdout",
     "output_type": "stream",
     "text": [
      "(['is', 'java', 'msia', 'my', 'name', 'parth', 'python'], 21, 12, 0.0)\n",
      "(['is', 'java', 'msia', 'my', 'name', 'parth', 'python'], 9, 9, 0.0)\n"
     ]
    }
   ],
   "source": [
    "#List of string\n",
    "list_of_str = ['name','my','parth','is','msia','python','java']\n",
    "\n",
    "#create class instance\n",
    "str_test = MySorted(list_of_str)\n",
    "str_test2 = MySorted(list_of_str)\n",
    "\n",
    "#test on bubble\n",
    "print(str_test.bubble_sort())\n",
    "\n",
    "#test on merge\n",
    "print(str_test2.merge_sort(str_test2.get_list()))"
   ]
  },
  {
   "cell_type": "markdown",
   "metadata": {},
   "source": [
    "test on list of numbers"
   ]
  },
  {
   "cell_type": "code",
   "execution_count": 20,
   "metadata": {},
   "outputs": [
    {
     "name": "stdout",
     "output_type": "stream",
     "text": [
      "[51, 42, 35, 41, 33, 6, 38, 100, 68, 81]\n",
      "([6, 33, 35, 38, 41, 42, 51, 68, 81, 100], 45, 19, 0.0)\n",
      "([6, 33, 35, 38, 41, 42, 51, 68, 81, 100], 15, 15, 0.0)\n"
     ]
    }
   ],
   "source": [
    "#list of random ints\n",
    "list_of_num = [random.randint(0,100) for i in range(10)]\n",
    "print(list_of_num)\n",
    "#create class instance\n",
    "num_test = MySorted(list_of_num)\n",
    "num_test2 = MySorted(list_of_num)\n",
    "\n",
    "#test on bubble\n",
    "print(num_test.bubble_sort())\n",
    "\n",
    "#test on merge\n",
    "print(num_test2.merge_sort(num_test2.get_list()))"
   ]
  },
  {
   "cell_type": "markdown",
   "metadata": {},
   "source": [
    "test on list of lists"
   ]
  },
  {
   "cell_type": "code",
   "execution_count": 21,
   "metadata": {},
   "outputs": [
    {
     "name": "stdout",
     "output_type": "stream",
     "text": [
      "([['a'], ['name', 'my'], ['parth', 'is', 'msia'], ['python', 'java']], 6, 3, 0.00099945068359375)\n",
      "([['a'], ['name', 'my'], ['parth', 'is', 'msia'], ['python', 'java']], 4, 4, 0.0)\n"
     ]
    }
   ],
   "source": [
    "list_of_lst = [['name','my'],['python','java'],['a'],['parth','is','msia']]\n",
    "\n",
    "#create class instance\n",
    "lst_test = MySorted(list_of_lst)\n",
    "lst_test2 = MySorted(list_of_lst)\n",
    "\n",
    "#test on bubble\n",
    "print(lst_test.bubble_sort())\n",
    "\n",
    "#test on merge\n",
    "print(lst_test2.merge_sort(lst_test2.get_list()))"
   ]
  },
  {
   "cell_type": "markdown",
   "metadata": {},
   "source": [
    "#### Verify that the reversed option works as intended on both bubble and merge"
   ]
  },
  {
   "cell_type": "code",
   "execution_count": 22,
   "metadata": {},
   "outputs": [
    {
     "name": "stdout",
     "output_type": "stream",
     "text": [
      "[24, 80, 57, 67, 24, 14, 11, 49, 29, 57]\n",
      "([80, 67, 57, 57, 49, 29, 24, 24, 14, 11], 45, 18, 0.0)\n",
      "([80, 67, 57, 57, 49, 29, 24, 24, 14, 11], 17, 15, 0.0)\n"
     ]
    }
   ],
   "source": [
    "#list of random ints\n",
    "list_of_num = [random.randint(0,100) for i in range(10)]\n",
    "print(list_of_num)\n",
    "#create class instance\n",
    "num_test = MySorted(list_of_num,reverse=True)\n",
    "num_test2 = MySorted(list_of_num,reverse=True)\n",
    "\n",
    "#test on bubble\n",
    "print(num_test.bubble_sort())\n",
    "\n",
    "#test on merge\n",
    "print(num_test2.merge_sort(num_test2.get_list()))"
   ]
  },
  {
   "cell_type": "markdown",
   "metadata": {},
   "source": [
    "#### Verify that the key arg works as intended on both bubble and merge"
   ]
  },
  {
   "cell_type": "code",
   "execution_count": 23,
   "metadata": {},
   "outputs": [
    {
     "name": "stdout",
     "output_type": "stream",
     "text": [
      "(['a', 'c', 90, 'z'], 6, 3, 0.0)\n",
      "(['a', 'c', 90, 'z'], 4, 4, 0.0)\n"
     ]
    }
   ],
   "source": [
    "#List of string\n",
    "test40 = [90, 'a', 'z', 'c']\n",
    "\n",
    "#key arg\n",
    "key = lambda x:sum([ord(item) for item in str(x)])\n",
    "\n",
    "#create class instance\n",
    "str_test = MySorted(test40,key_in=key)\n",
    "str_test2 = MySorted(test40,key_in=key)\n",
    "\n",
    "#test on bubble\n",
    "print(str_test.bubble_sort())\n",
    "\n",
    "#test on merge\n",
    "print(str_test2.merge_sort(str_test2.get_list()))"
   ]
  }
 ],
 "metadata": {
  "kernelspec": {
   "display_name": "Python 3",
   "language": "python",
   "name": "python3"
  },
  "language_info": {
   "codemirror_mode": {
    "name": "ipython",
    "version": 3
   },
   "file_extension": ".py",
   "mimetype": "text/x-python",
   "name": "python",
   "nbconvert_exporter": "python",
   "pygments_lexer": "ipython3",
   "version": "3.7.3"
  }
 },
 "nbformat": 4,
 "nbformat_minor": 2
}
