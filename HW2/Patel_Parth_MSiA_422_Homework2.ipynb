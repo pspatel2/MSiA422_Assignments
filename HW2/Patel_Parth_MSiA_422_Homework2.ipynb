{
 "cells": [
  {
   "cell_type": "markdown",
   "metadata": {},
   "source": [
    "# MSiA 422 Homework 2 -- Written by Parth Patel"
   ]
  },
  {
   "cell_type": "markdown",
   "metadata": {},
   "source": [
    "## Write a a class that offers 2 functions that works exactly like the sorted() built-in function in python"
   ]
  },
  {
   "cell_type": "markdown",
   "metadata": {},
   "source": [
    "### Report Table of Conents:\n",
    "\n",
    "i) Package Imports & Class Definition<br>\n",
    "ii) Sorting Methods Performance Comparison<br>\n",
    "iii) Other Test Cases and Examples<br>\n",
    "\n",
    "*** THE CODE IS MEANT TO BE RUN SEQUENTIALLY IN THIS NOTEBOOK\n",
    "** Once the class defition is ran you can define instances and run things as you please.  Please refer to the text prior to the class definition to understand the args requried and the output"
   ]
  },
  {
   "cell_type": "markdown",
   "metadata": {},
   "source": [
    "### Part i) Package Imports & Class Definition"
   ]
  },
  {
   "cell_type": "markdown",
   "metadata": {},
   "source": [
    "import packages needed for reporting performance of the sort functions"
   ]
  },
  {
   "cell_type": "code",
   "execution_count": 119,
   "metadata": {},
   "outputs": [],
   "source": [
    "import time  ##used for returning time measure when a given sort function is called on its own\n",
    "import timeit ##used for coparing the two sort functions for reporting performance\n",
    "import matplotlib.pyplot as plt  ##used for generating performance comparison plot\n",
    "import random ##used for random generation of data for performance comparison and test cases"
   ]
  },
  {
   "cell_type": "markdown",
   "metadata": {},
   "source": [
    "### Define the class that has bubble and merge sorting methods\n",
    "\n",
    "Each class object can be initialized with three inputs but it is unnecessary to do for this assignment:<br>\n",
    "- iterable of objects: any list of objects (of the same type, e.g. list of numbers, list of strings, list of lists)<br>\n",
    "- key: A custom key function can be supplied to customize the sort order, e.g. for sorting list can provide key str.lower(); defaults to None so do not supply anything unless desired<br>\n",
    "- reversed: A flag field that allows the order of sort to be defined.  E.g. if descending order sort is desired supply True.  If ascending order is desired supply True or do not provide the arg as it is defaulted to True\n",
    "\n",
    "The class has two methods defined:<br>\n",
    "- bubble_sort() implements a bubble sort algorithm on inputted list and returns a tuple.  The tuple contains the following: (sorted list, number of comparison performed during sorting, number of swaps performed during sorting, time elapsed)<br>\n",
    "- merge_sort() implements a merge sort algorithm on inputted list and returns a tuple.  The tuple contains the following: (sorted list, number of comparison performed during sorting, number of swaps performed during sorting, time elapsed"
   ]
  },
  {
   "cell_type": "code",
   "execution_count": 120,
   "metadata": {},
   "outputs": [],
   "source": [
    "#class will inherit the base object class\n",
    "class MySorted(object):\n",
    "    '''\n",
    "    A class that offers 2  sorting functions (bubble and merge algorithms) which receives inputs exactly like the sorted() built-in\n",
    "    function in python.\n",
    "    \n",
    "    instance attributes:\n",
    "    iterable of objects: any list of objects (of the same type, e.g. list of numbers, list of strings, list of lists)\n",
    "    key: A custom key function can be supplied to customize the sort order, e.g. for sorting list can provide key str.lower(); defaults to None so do not supply anything unless desired\n",
    "    reverse: A flag field that allows the order of sort to be defined. E.g. if descending order sort is desired supply True. If ascending order is desired supply True or do not provide the arg as it is defaulted to True\n",
    "    \n",
    "    '''\n",
    "    #per instructions the class is required to have 3 input parameters: iterable of objects, key, and reversed. \n",
    "    def __init__(self,a_list=[],rev_flag=False,key_in=lambda x:x):\n",
    "        list_in = a_list\n",
    "        key_in = key_in\n",
    "        if rev_flag == True or rev_flag == False:\n",
    "            reverse_in = rev_flag\n",
    "        else:\n",
    "            raise ValueError(\"Reverse field supplied must be True or False\")\n",
    "    \n",
    "    #class method for implementing a bubble sort algorithm to the supplied list\n",
    "    def bubble_sort(self,iterable=[],key = lambda x:x,reverse=False):\n",
    "        '''\n",
    "        Inputs:\n",
    "        iterable of objects: any list of objects (of the same type, e.g. list of numbers, list of strings, list of lists)\n",
    "        key: A custom key function can be supplied to customize the sort order, e.g. for sorting list can provide key str.lower(); defaults to None so do not supply anything unless desired\n",
    "        reverse: A flag field that allows the order of sort to be defined. E.g. if descending order sort is desired supply True. If ascending order is desired supply True or do not provide the arg as it is defaulted to True\n",
    "        \n",
    "        Performs: a bubble sort algorithm on inputted list applying the key & reverse fields\n",
    "        \n",
    "        Outputs: A tuple contains the following: (sorted list, number of comparison performed during sorting, number of swaps performed during sorting, time elapsed)\n",
    "        '''\n",
    "        list_in = iterable[:]\n",
    "        if key == None:\n",
    "            key = lambda x:x\n",
    "        start_time = time.time()\n",
    "        nComp = 0\n",
    "        nSwap = 0\n",
    "        if reverse == False:\n",
    "            for pass_num in range(len(list_in) - 1, 0, -1):\n",
    "                for i in range(pass_num):\n",
    "                    nComp += 1\n",
    "                    if key(list_in[i]) > key(list_in[i + 1]):                \n",
    "                        list_in[i],list_in[i + 1] = list_in[i + 1] ,list_in[i]\n",
    "                        nSwap+=1\n",
    "            end_time = time.time()\n",
    "        else:\n",
    "            for pass_num in range(len(list_in) - 1, 0, -1):\n",
    "                for i in range(pass_num):\n",
    "                    nComp += 1\n",
    "                    if key(list_in[i]) < key(list_in[i + 1]):                \n",
    "                        list_in[i],list_in[i + 1] = list_in[i + 1] ,list_in[i]\n",
    "                        nSwap+=1\n",
    "            end_time = time.time()\n",
    "        return(list_in, nComp, nSwap,end_time-start_time)\n",
    "    \n",
    "    #class method for implementing a merge sort algorithm to the supplied list\n",
    "    def merge_sort(self,a_list=[],key = lambda x:x,reverse=False):\n",
    "        '''\n",
    "        Inputs:\n",
    "        iterable of objects: any list of objects (of the same type, e.g. list of numbers, list of strings, list of lists)\n",
    "        key: A custom key function can be supplied to customize the sort order, e.g. for sorting list can provide key str.lower(); defaults to None so do not supply anything unless desired\n",
    "        reverse: A flag field that allows the order of sort to be defined. E.g. if descending order sort is desired supply True. If ascending order is desired supply True or do not provide the arg as it is defaulted to True\n",
    "        \n",
    "        Performs: a merge sort algorithm on inputted list applying the key & reverse fields\n",
    "        \n",
    "        Outputs: A tuple contains the following: (sorted list, number of comparison performed during sorting, number of swaps performed during sorting, time elapsed)\n",
    "        '''\n",
    "        if key == None:\n",
    "            key = lambda x:x\n",
    "        nComp = 0\n",
    "        nSwap = 0\n",
    "        lft_comp = 0\n",
    "        rgt_comp = 0\n",
    "        lft_swap = 0\n",
    "        rgt_swap = 0\n",
    "        start_time = time.time()\n",
    "        if len(a_list) > 1:   \n",
    "            mid = len(a_list) // 2\n",
    "            left_half = a_list[:mid]\n",
    "            right_half = a_list[mid:]\n",
    "            _,lft_comp,lft_swap,_ = self.merge_sort(left_half,key,reverse)\n",
    "            _,rgt_comp,rgt_swap,_ = self.merge_sort(right_half,key,reverse)\n",
    "\n",
    "            i = 0\n",
    "            j = 0\n",
    "            k = 0\n",
    "\n",
    "            if reverse == False:\n",
    "                while i < len(left_half) and j < len(right_half):\n",
    "                    nComp += 1\n",
    "                    if key(left_half[i]) < key(right_half[j]):\n",
    "                        a_list[k] = left_half[i]\n",
    "                        i = i + 1\n",
    "                    else:\n",
    "                        nSwap+=1\n",
    "                        a_list[k] = right_half[j]\n",
    "                        j = j + 1\n",
    "                    k = k + 1\n",
    "            else:\n",
    "                while i < len(left_half) and j < len(right_half):\n",
    "                    nComp += 1\n",
    "                    if key(left_half[i]) > key(right_half[j]):\n",
    "                        a_list[k] = left_half[i]\n",
    "                        i = i + 1\n",
    "                    else:\n",
    "                        nSwap+=1\n",
    "                        a_list[k] = right_half[j]\n",
    "                        j = j + 1\n",
    "                    k = k + 1\n",
    "\n",
    "            while i < len(left_half):\n",
    "                a_list[k] = left_half[i]\n",
    "                i = i + 1\n",
    "                k = k + 1\n",
    "\n",
    "            while j < len(right_half):\n",
    "                a_list[k] = right_half[j]\n",
    "                j = j + 1\n",
    "                k = k + 1\n",
    "        end_time = time.time()\n",
    "        return(a_list,nComp+lft_comp+rgt_comp,nSwap+lft_swap+rgt_swap,end_time-start_time)\n"
   ]
  },
  {
   "cell_type": "markdown",
   "metadata": {},
   "source": [
    "### Part ii) Package Imports & Class Definition"
   ]
  },
  {
   "cell_type": "markdown",
   "metadata": {},
   "source": [
    "The function, compare_times, below generates random lists of specified sizes and then calls 3 different sorting function (bubble, merge, sorted) to sort the same list and record the time elapsed for each to excecute the task.  The function returns a list of lists that contains the execution time for different sized lists across each of the three methods.  E.g. t1 contains the time required to sort lists of different specified lengths for the bubble sort, t2 contains the same info but for merge sort, and t3 for sorted"
   ]
  },
  {
   "cell_type": "code",
   "execution_count": 121,
   "metadata": {},
   "outputs": [],
   "source": [
    "def compare_times():\n",
    "    '''\n",
    "    Def: generates random lists of specified sizes\\\n",
    "    Input: None\n",
    "    Output: returns a list of lists that contains the execution time for different sized lists across three (bubble, merged, Sorted) sorting algorithms\n",
    "    '''\n",
    "    N_vals = [10,100,200,500]\n",
    "    t1 = []\n",
    "    t2 = []\n",
    "    t3 = []\n",
    "    for n in N_vals:\n",
    "        l = [random.randint(0,100) for i in range(n)]\n",
    "        inp1 = MySorted()\n",
    "        \n",
    "        t1.append(timeit.timeit(lambda:inp1.bubble_sort(l),number =1))\n",
    "        t2.append(timeit.timeit(lambda: inp1.merge_sort(l),number =1))\n",
    "        t3.append(timeit.timeit(lambda: sorted(l),number =1))\n",
    "        \n",
    "    return [t1,t2,t3]"
   ]
  },
  {
   "cell_type": "markdown",
   "metadata": {},
   "source": [
    "Call the function to gather execution time information"
   ]
  },
  {
   "cell_type": "code",
   "execution_count": 122,
   "metadata": {
    "scrolled": true
   },
   "outputs": [],
   "source": [
    "times_bubble, times_merge, times_sorted = compare_times()"
   ]
  },
  {
   "cell_type": "markdown",
   "metadata": {},
   "source": [
    "Plot the comparison results"
   ]
  },
  {
   "cell_type": "code",
   "execution_count": 123,
   "metadata": {},
   "outputs": [
    {
     "data": {
      "text/plain": [
       "<matplotlib.legend.Legend at 0x2605d594d68>"
      ]
     },
     "execution_count": 123,
     "metadata": {},
     "output_type": "execute_result"
    },
    {
     "data": {
      "image/png": "[encoded data removed]",
      "text/plain": [
       "<Figure size 864x432 with 1 Axes>"
      ]
     },
     "metadata": {
      "needs_background": "light"
     },
     "output_type": "display_data"
    }
   ],
   "source": [
    "N_vals = [10,100,200,500]\n",
    "plt.figure(figsize = (12,6))\n",
    "plt.plot(N_vals,times_bubble,label = 'Bubble')\n",
    "plt.plot(N_vals,times_merge, label = 'Merge')\n",
    "plt.plot(N_vals,times_sorted, label = 'Sorted')\n",
    "plt.xlabel('Length of List (N)',fontsize=16)\n",
    "plt.ylabel('Execution Time (s)',fontsize=16)\n",
    "plt.title('Performance (execution time) of Various Sort Methods vs Length of List',fontsize=18)\n",
    "plt.xticks(fontsize=14)\n",
    "plt.yticks(fontsize=14)\n",
    "plt.legend(fontsize = 14)"
   ]
  },
  {
   "cell_type": "markdown",
   "metadata": {},
   "source": [
    "Summary table of the comparison results"
   ]
  },
  {
   "cell_type": "code",
   "execution_count": 124,
   "metadata": {},
   "outputs": [
    {
     "data": {
      "text/html": [
       "<div>\n",
       "<style scoped>\n",
       "    .dataframe tbody tr th:only-of-type {\n",
       "        vertical-align: middle;\n",
       "    }\n",
       "\n",
       "    .dataframe tbody tr th {\n",
       "        vertical-align: top;\n",
       "    }\n",
       "\n",
       "    .dataframe thead th {\n",
       "        text-align: right;\n",
       "    }\n",
       "</style>\n",
       "<table border=\"1\" class=\"dataframe\">\n",
       "  <thead>\n",
       "    <tr style=\"text-align: right;\">\n",
       "      <th></th>\n",
       "      <th>0</th>\n",
       "      <th>1</th>\n",
       "      <th>2</th>\n",
       "      <th>3</th>\n",
       "    </tr>\n",
       "  </thead>\n",
       "  <tbody>\n",
       "    <tr>\n",
       "      <th>0</th>\n",
       "      <td>0.000029</td>\n",
       "      <td>0.001424</td>\n",
       "      <td>0.006319</td>\n",
       "      <td>0.037897</td>\n",
       "    </tr>\n",
       "    <tr>\n",
       "      <th>1</th>\n",
       "      <td>0.000034</td>\n",
       "      <td>0.000455</td>\n",
       "      <td>0.000990</td>\n",
       "      <td>0.002618</td>\n",
       "    </tr>\n",
       "    <tr>\n",
       "      <th>2</th>\n",
       "      <td>0.000002</td>\n",
       "      <td>0.000003</td>\n",
       "      <td>0.000006</td>\n",
       "      <td>0.000006</td>\n",
       "    </tr>\n",
       "  </tbody>\n",
       "</table>\n",
       "</div>"
      ],
      "text/plain": [
       "          0         1         2         3\n",
       "0  0.000029  0.001424  0.006319  0.037897\n",
       "1  0.000034  0.000455  0.000990  0.002618\n",
       "2  0.000002  0.000003  0.000006  0.000006"
      ]
     },
     "execution_count": 124,
     "metadata": {},
     "output_type": "execute_result"
    }
   ],
   "source": [
    "import pandas as pd\n",
    "pd.DataFrame([times_bubble, times_merge, times_sorted])"
   ]
  },
  {
   "cell_type": "code",
   "execution_count": 125,
   "metadata": {},
   "outputs": [
    {
     "data": {
      "text/html": [
       "<div>\n",
       "<style scoped>\n",
       "    .dataframe tbody tr th:only-of-type {\n",
       "        vertical-align: middle;\n",
       "    }\n",
       "\n",
       "    .dataframe tbody tr th {\n",
       "        vertical-align: top;\n",
       "    }\n",
       "\n",
       "    .dataframe thead th {\n",
       "        text-align: right;\n",
       "    }\n",
       "</style>\n",
       "<table border=\"1\" class=\"dataframe\">\n",
       "  <thead>\n",
       "    <tr style=\"text-align: right;\">\n",
       "      <th></th>\n",
       "      <th>Length of List(N)</th>\n",
       "      <th>Bubble Sort Time (s)</th>\n",
       "      <th>Merge Sort Time (s)</th>\n",
       "      <th>Sorted Sort Time (s)</th>\n",
       "    </tr>\n",
       "  </thead>\n",
       "  <tbody>\n",
       "    <tr>\n",
       "      <th>0</th>\n",
       "      <td>10</td>\n",
       "      <td>0.000029</td>\n",
       "      <td>0.000034</td>\n",
       "      <td>0.000002</td>\n",
       "    </tr>\n",
       "    <tr>\n",
       "      <th>1</th>\n",
       "      <td>100</td>\n",
       "      <td>0.001424</td>\n",
       "      <td>0.000455</td>\n",
       "      <td>0.000003</td>\n",
       "    </tr>\n",
       "    <tr>\n",
       "      <th>2</th>\n",
       "      <td>200</td>\n",
       "      <td>0.006319</td>\n",
       "      <td>0.000990</td>\n",
       "      <td>0.000006</td>\n",
       "    </tr>\n",
       "    <tr>\n",
       "      <th>3</th>\n",
       "      <td>500</td>\n",
       "      <td>0.037897</td>\n",
       "      <td>0.002618</td>\n",
       "      <td>0.000006</td>\n",
       "    </tr>\n",
       "  </tbody>\n",
       "</table>\n",
       "</div>"
      ],
      "text/plain": [
       "   Length of List(N)  Bubble Sort Time (s)  Merge Sort Time (s)  \\\n",
       "0                 10              0.000029             0.000034   \n",
       "1                100              0.001424             0.000455   \n",
       "2                200              0.006319             0.000990   \n",
       "3                500              0.037897             0.002618   \n",
       "\n",
       "   Sorted Sort Time (s)  \n",
       "0              0.000002  \n",
       "1              0.000003  \n",
       "2              0.000006  \n",
       "3              0.000006  "
      ]
     },
     "execution_count": 125,
     "metadata": {},
     "output_type": "execute_result"
    }
   ],
   "source": [
    "df= pd.DataFrame({'Length of List(N)':N_vals,'Bubble Sort Time (s)': times_bubble,'Merge Sort Time (s)': times_merge,'Sorted Sort Time (s)': times_sorted})\n",
    "df"
   ]
  },
  {
   "cell_type": "code",
   "execution_count": 126,
   "metadata": {},
   "outputs": [
    {
     "data": {
      "text/html": [
       "<div>\n",
       "<style scoped>\n",
       "    .dataframe tbody tr th:only-of-type {\n",
       "        vertical-align: middle;\n",
       "    }\n",
       "\n",
       "    .dataframe tbody tr th {\n",
       "        vertical-align: top;\n",
       "    }\n",
       "\n",
       "    .dataframe thead th {\n",
       "        text-align: right;\n",
       "    }\n",
       "</style>\n",
       "<table border=\"1\" class=\"dataframe\">\n",
       "  <thead>\n",
       "    <tr style=\"text-align: right;\">\n",
       "      <th></th>\n",
       "      <th>Length of List(N)</th>\n",
       "      <th>Bubble Sort Time (s)</th>\n",
       "      <th>Merge Sort Time (s)</th>\n",
       "      <th>Sorted Sort Time (s)</th>\n",
       "    </tr>\n",
       "  </thead>\n",
       "  <tbody>\n",
       "    <tr>\n",
       "      <th>count</th>\n",
       "      <td>4.000000</td>\n",
       "      <td>4.000000</td>\n",
       "      <td>4.000000</td>\n",
       "      <td>4.000000</td>\n",
       "    </tr>\n",
       "    <tr>\n",
       "      <th>mean</th>\n",
       "      <td>202.500000</td>\n",
       "      <td>0.011417</td>\n",
       "      <td>0.001024</td>\n",
       "      <td>0.000004</td>\n",
       "    </tr>\n",
       "    <tr>\n",
       "      <th>std</th>\n",
       "      <td>212.974959</td>\n",
       "      <td>0.017858</td>\n",
       "      <td>0.001132</td>\n",
       "      <td>0.000002</td>\n",
       "    </tr>\n",
       "    <tr>\n",
       "      <th>min</th>\n",
       "      <td>10.000000</td>\n",
       "      <td>0.000029</td>\n",
       "      <td>0.000034</td>\n",
       "      <td>0.000002</td>\n",
       "    </tr>\n",
       "    <tr>\n",
       "      <th>25%</th>\n",
       "      <td>77.500000</td>\n",
       "      <td>0.001075</td>\n",
       "      <td>0.000350</td>\n",
       "      <td>0.000003</td>\n",
       "    </tr>\n",
       "    <tr>\n",
       "      <th>50%</th>\n",
       "      <td>150.000000</td>\n",
       "      <td>0.003871</td>\n",
       "      <td>0.000723</td>\n",
       "      <td>0.000004</td>\n",
       "    </tr>\n",
       "    <tr>\n",
       "      <th>75%</th>\n",
       "      <td>275.000000</td>\n",
       "      <td>0.014213</td>\n",
       "      <td>0.001397</td>\n",
       "      <td>0.000006</td>\n",
       "    </tr>\n",
       "    <tr>\n",
       "      <th>max</th>\n",
       "      <td>500.000000</td>\n",
       "      <td>0.037897</td>\n",
       "      <td>0.002618</td>\n",
       "      <td>0.000006</td>\n",
       "    </tr>\n",
       "  </tbody>\n",
       "</table>\n",
       "</div>"
      ],
      "text/plain": [
       "       Length of List(N)  Bubble Sort Time (s)  Merge Sort Time (s)  \\\n",
       "count           4.000000              4.000000             4.000000   \n",
       "mean          202.500000              0.011417             0.001024   \n",
       "std           212.974959              0.017858             0.001132   \n",
       "min            10.000000              0.000029             0.000034   \n",
       "25%            77.500000              0.001075             0.000350   \n",
       "50%           150.000000              0.003871             0.000723   \n",
       "75%           275.000000              0.014213             0.001397   \n",
       "max           500.000000              0.037897             0.002618   \n",
       "\n",
       "       Sorted Sort Time (s)  \n",
       "count              4.000000  \n",
       "mean               0.000004  \n",
       "std                0.000002  \n",
       "min                0.000002  \n",
       "25%                0.000003  \n",
       "50%                0.000004  \n",
       "75%                0.000006  \n",
       "max                0.000006  "
      ]
     },
     "execution_count": 126,
     "metadata": {},
     "output_type": "execute_result"
    }
   ],
   "source": [
    "df.describe()"
   ]
  },
  {
   "cell_type": "markdown",
   "metadata": {},
   "source": [
    "### Part iii) Other Test Cases and Examples"
   ]
  },
  {
   "cell_type": "markdown",
   "metadata": {},
   "source": [
    "#### Verify that the bubble and merge algorithms work on lists comprised of different object types"
   ]
  },
  {
   "cell_type": "markdown",
   "metadata": {},
   "source": [
    "test on list of strings"
   ]
  },
  {
   "cell_type": "code",
   "execution_count": 127,
   "metadata": {},
   "outputs": [
    {
     "name": "stdout",
     "output_type": "stream",
     "text": [
      "(['is', 'java', 'msia', 'my', 'name', 'parth', 'python'], 21, 12, 0.0)\n",
      "(['is', 'java', 'msia', 'my', 'name', 'parth', 'python'], 14, 6, 0.0)\n"
     ]
    }
   ],
   "source": [
    "#List of string\n",
    "list_of_str = ['name','my','parth','is','msia','python','java']\n",
    "\n",
    "#create class instance\n",
    "str_test = MySorted()\n",
    "\n",
    "#test on bubble\n",
    "print(str_test.bubble_sort(list_of_str))\n",
    "\n",
    "#test on merge\n",
    "print(str_test.merge_sort(list_of_str))"
   ]
  },
  {
   "cell_type": "markdown",
   "metadata": {},
   "source": [
    "test on list of numbers"
   ]
  },
  {
   "cell_type": "code",
   "execution_count": 128,
   "metadata": {},
   "outputs": [
    {
     "name": "stdout",
     "output_type": "stream",
     "text": [
      "[22, 6, 50, 99, 3, 20, 89, 94, 42, 63]\n",
      "([3, 6, 20, 22, 42, 50, 63, 89, 94, 99], 45, 17, 0.0)\n",
      "([3, 6, 20, 22, 42, 50, 63, 89, 94, 99], 24, 13, 0.0)\n"
     ]
    }
   ],
   "source": [
    "#list of random ints\n",
    "list_of_num = [random.randint(0,100) for i in range(10)]\n",
    "print(list_of_num)\n",
    "#create class instance\n",
    "num_test = MySorted()\n",
    "\n",
    "#test on bubble\n",
    "print(num_test.bubble_sort(list_of_num))\n",
    "\n",
    "#test on merge\n",
    "print(num_test.merge_sort(list_of_num))"
   ]
  },
  {
   "cell_type": "markdown",
   "metadata": {},
   "source": [
    "test on list of lists"
   ]
  },
  {
   "cell_type": "code",
   "execution_count": 129,
   "metadata": {},
   "outputs": [
    {
     "name": "stdout",
     "output_type": "stream",
     "text": [
      "([['a'], ['name', 'my'], ['parth', 'is', 'msia'], ['python', 'java']], 6, 3, 0.0)\n",
      "([['a'], ['name', 'my'], ['parth', 'is', 'msia'], ['python', 'java']], 5, 2, 0.0)\n"
     ]
    }
   ],
   "source": [
    "list_of_lst = [['name','my'],['python','java'],['a'],['parth','is','msia']]\n",
    "\n",
    "#create class instance\n",
    "lst_test = MySorted(list_of_lst)\n",
    "\n",
    "#test on bubble\n",
    "print(lst_test.bubble_sort(list_of_lst))\n",
    "\n",
    "#test on merge\n",
    "print(lst_test.merge_sort(list_of_lst))"
   ]
  },
  {
   "cell_type": "markdown",
   "metadata": {},
   "source": [
    "#### Verify that the reversed option works as intended on both bubble and merge"
   ]
  },
  {
   "cell_type": "code",
   "execution_count": 130,
   "metadata": {},
   "outputs": [
    {
     "name": "stdout",
     "output_type": "stream",
     "text": [
      "[37, 12, 55, 76, 35, 99, 82, 18, 64, 95]\n",
      "([99, 95, 82, 76, 64, 55, 37, 35, 18, 12], 45, 30, 0.0)\n",
      "([99, 95, 82, 76, 64, 55, 37, 35, 18, 12], 24, 13, 0.0)\n"
     ]
    }
   ],
   "source": [
    "#list of random ints\n",
    "list_of_num = [random.randint(0,100) for i in range(10)]\n",
    "print(list_of_num)\n",
    "#create class instance\n",
    "num_test = MySorted()\n",
    "\n",
    "#test on bubble\n",
    "print(num_test.bubble_sort(list_of_num,reverse=True))\n",
    "\n",
    "#test on merge\n",
    "print(num_test.merge_sort(list_of_num,reverse=True))"
   ]
  },
  {
   "cell_type": "markdown",
   "metadata": {},
   "source": [
    "#### Verify that the key arg works as intended on both bubble and merge"
   ]
  },
  {
   "cell_type": "code",
   "execution_count": 131,
   "metadata": {},
   "outputs": [
    {
     "name": "stdout",
     "output_type": "stream",
     "text": [
      "(['a', 'c', 90, 'z'], 6, 3, 0.0)\n",
      "(['a', 'c', 90, 'z'], 5, 3, 0.0)\n"
     ]
    }
   ],
   "source": [
    "#List of string\n",
    "test40 = [90, 'a', 'z', 'c']\n",
    "\n",
    "#key arg\n",
    "key = lambda x:sum([ord(item) for item in str(x)])\n",
    "\n",
    "#create class instance\n",
    "str_test = MySorted()\n",
    "\n",
    "#test on bubble\n",
    "print(str_test.bubble_sort(test40,key=key))\n",
    "\n",
    "#test on merge\n",
    "print(str_test.merge_sort(test40,key=key))"
   ]
  }
 ],
 "metadata": {
  "kernelspec": {
   "display_name": "Python 3",
   "language": "python",
   "name": "python3"
  },
  "language_info": {
   "codemirror_mode": {
    "name": "ipython",
    "version": 3
   },
   "file_extension": ".py",
   "mimetype": "text/x-python",
   "name": "python",
   "nbconvert_exporter": "python",
   "pygments_lexer": "ipython3",
   "version": "3.7.3"
  }
 },
 "nbformat": 4,
 "nbformat_minor": 2
}
