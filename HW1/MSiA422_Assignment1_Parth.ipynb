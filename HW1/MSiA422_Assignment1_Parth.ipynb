{
 "cells": [
  {
   "cell_type": "markdown",
   "metadata": {},
   "source": [
    "# MSiA 422 Homework 1 -- Parth Patel"
   ]
  },
  {
   "cell_type": "markdown",
   "metadata": {},
   "source": [
    "## Excerise 1: Procedural vs Functional Programming"
   ]
  },
  {
   "cell_type": "markdown",
   "metadata": {},
   "source": [
    "### Problem Def: Given a list of numbers and words, find the count of each element type in the list."
   ]
  },
  {
   "cell_type": "code",
   "execution_count": null,
   "metadata": {},
   "outputs": [],
   "source": [
    "#Part i) Create a function the will randomly generate a list of N numbers and words. Numbers and words count are random and the order is random too.\n",
    "\n",
    "import random, string\n",
    "\n",
    "def list_generator(list_len):\n",
    "    #randomly determine the number of words and numbers in the list\n",
    "    num_words = random.randint(1,list_len)\n",
    "    num_numbers = list_len - num_words\n",
    "    \n",
    "    #create an empty list to append values to\n",
    "    L = []\n",
    "    \n",
    "    #generate a number (based on random num_words above) of random strings (real words not easily generated without external package)\n",
    "    for i in range(num_words):\n",
    "        L.append(''.join(random.choice(string.ascii_lowercase) for i in range(8)))\n",
    "    \n",
    "    #generate a number (based on random num_numbers above) of random integers\n",
    "    counter = 0\n",
    "    while counter < num_numbers:\n",
    "        L.append(random.randint(0, 1000))\n",
    "        counter+= 1\n",
    "    \n",
    "    #shuffle the list to create random order in outputted list\n",
    "    random.shuffle(L)\n",
    "    return L\n",
    "\n",
    "#run the function to see an output\n",
    "list_generator(10)"
   ]
  },
  {
   "cell_type": "code",
   "execution_count": null,
   "metadata": {},
   "outputs": [],
   "source": [
    "#Part ii a) calculate the desired output with a procedural code by using loops\n",
    "\n",
    "def count_element_type_procedural(L):\n",
    "    \n",
    "    numbers_count = 0\n",
    "    words_count = 0\n",
    "    for item in L:\n",
    "        if type(item) == str:\n",
    "            tmp = item.split()\n",
    "            words_count = words_count + len(tmp)\n",
    "        else:\n",
    "            numbers_count += 1\n",
    "    \n",
    "    print(\"Count of numbers: \", numbers_count)\n",
    "    print(\"Count of words: \", words_count)\n",
    "    \n",
    "#run provided example case\n",
    "count_element_type_procedural([2, 3, 'word', -1, 'python programming language', 9, 321])"
   ]
  },
  {
   "cell_type": "code",
   "execution_count": 3,
   "metadata": {},
   "outputs": [],
   "source": [
    "#Part ii b) calculate the desired output with a Functional code by using list comprehension.\n",
    "def count_element_type_functional(L):\n",
    "    numbers_count = len([i for i in L if type(i)==int])\n",
    "    words_count = sum([len(i.split()) for i in L if type(i)==str])\n",
    "    \n",
    "    print(\"Count of numbers: \", numbers_count)\n",
    "    print(\"Count of words: \", words_count)"
   ]
  },
  {
   "cell_type": "code",
   "execution_count": 4,
   "metadata": {},
   "outputs": [
    {
     "name": "stdout",
     "output_type": "stream",
     "text": [
      "Count of numbers:  5\n",
      "Count of words:  4\n"
     ]
    }
   ],
   "source": [
    "count_element_type_functional([2, 3, 'word', -1, 'python programming language', 9, 321])"
   ]
  },
  {
   "cell_type": "code",
   "execution_count": 5,
   "metadata": {},
   "outputs": [
    {
     "data": {
      "text/plain": [
       "<Figure size 1000x600 with 1 Axes>"
      ]
     },
     "metadata": {},
     "output_type": "display_data"
    }
   ],
   "source": [
    "#Part iii Use TimeIt standard library and matplotlib to present the performance difference among the 2 solutions for different list sizes\n",
    "import timeit \n",
    "\n",
    "def compare_times(method, N):\n",
    "    func_in = \"lambda: count_element_type_{}(list_generator({}))\".format(method,N)\n",
    "    time= timeit.timeit(func_in)\n",
    "    return time\n",
    "\n",
    "N_vals = [100, 1000, 10000, 100000]\n",
    "func_times=[]\n",
    "proc_times = []\n",
    "for n in N_vals:\n",
    "    func_times.append(compare_times('functional',n))\n",
    "    proc_times.append(compare_times('procedural',n))\n",
    "    \n",
    "import matplotlib.pyplot as plt\n",
    "plt.figure(figsize=(10,6))\n",
    "plt.plot(N_vals,func_times, label = 'functional')\n",
    "plt.plot(N_vals,proc_times, label = 'procedural')\n",
    "plt.title(\"Performance between Functional and Procedural Approaches\", fontsize = 18)\n",
    "plt.xlabel(\"Number of items in list\",fontsize = 14)\n",
    "plt.ylabel(\"Timeit result time (s)\", fontsize =14)\n",
    "plt.ylim((0.03,0.08))\n",
    "plt.legend()\n",
    "plt.show()"
   ]
  },
  {
   "cell_type": "markdown",
   "metadata": {},
   "source": [
    "## Exercise 2 – Simple Student Grading System - memory based"
   ]
  },
  {
   "cell_type": "markdown",
   "metadata": {},
   "source": [
    "### Problem Def: Create a data structure (dict!) to store the class related information."
   ]
  },
  {
   "cell_type": "markdown",
   "metadata": {},
   "source": [
    "Create a data structure (dict!) to store the class related information."
   ]
  },
  {
   "cell_type": "code",
   "execution_count": null,
   "metadata": {
    "scrolled": true
   },
   "outputs": [],
   "source": [
    "import csv\n",
    "with open(\"exams.csv\", 'r') as csvfile:\n",
    "    reader = csv.DictReader(csvfile)\n",
    "    student_dict = []\n",
    "    for row in reader:\n",
    "        row['final_score'] = 0.4*float(row['Exams'])+0.3*float(row['Quizzes'])+0.3*float(row['Projects'])\n",
    "        if (row['final_score'] >= 90):\n",
    "            row['letter_grade'] = 'A'\n",
    "        elif (row['final_score'] >= 80) & (row['final_score'] < 90):\n",
    "            row['letter_grade'] = 'B'\n",
    "        elif (row['final_score'] >= 20) & (row['final_score'] < 80):\n",
    "            row['letter_grade'] = 'C'\n",
    "        elif (row['final_score'] >= 10) & (row['final_score'] < 20):\n",
    "            row['letter_grade'] = 'D'\n",
    "        else:\n",
    "            row['letter_grade'] = 'F'\n",
    "        student_dict.append(row)"
   ]
  },
  {
   "cell_type": "code",
   "execution_count": null,
   "metadata": {},
   "outputs": [],
   "source": [
    "student_dict"
   ]
  },
  {
   "cell_type": "markdown",
   "metadata": {},
   "source": [
    "Provide the system user with a console based menu as defined in assignment"
   ]
  },
  {
   "cell_type": "code",
   "execution_count": null,
   "metadata": {},
   "outputs": [],
   "source": [
    "def print_menu(): \n",
    "    print(25 * \"-\" , \"MENU\" , 25 * \"-\")\n",
    "    print(\"1. Load data set from exams.csv file\")\n",
    "    print(\"2. Print a list of student names, final scores,\\n   and letter grades sorted by names\")\n",
    "    print(\"3. Print score summary\")\n",
    "    print(\"4. Identify +2 sigma students\")\n",
    "    print(\"5. Plot a pie chart of final grades distribution\")\n",
    "    print(\"6. Compute box plot params (min, max, median, Q1, Q3)\")\n",
    "    print(\"7. Exit system\")\n",
    "    print(57 * \"-\")"
   ]
  },
  {
   "cell_type": "code",
   "execution_count": null,
   "metadata": {},
   "outputs": [],
   "source": [
    "#ask TA if this is what is desired or if 'load' data for option 1 means into a dict\n",
    "def menu1():\n",
    "    f = open('exams.csv')\n",
    "    data =f.readlines()\n",
    "    print(data)"
   ]
  },
  {
   "cell_type": "code",
   "execution_count": null,
   "metadata": {},
   "outputs": [],
   "source": [
    "def menu2():\n",
    "    student_sorted_dict = sorted(student_dict, key=lambda x: x['Name']) \n",
    "    print('Below is a list of lists containing: Name, Final Score, Letter Grade')\n",
    "    print([[d['Name'],d['final_score'],d['letter_grade']] for d in student_sorted_dict])"
   ]
  },
  {
   "cell_type": "code",
   "execution_count": null,
   "metadata": {},
   "outputs": [],
   "source": [
    "def get_mode(list_in):\n",
    "    a= [(list_in.count(x),x) for x in list_in]\n",
    "    max_occur= max(a)[0]\n",
    "    max_tuples = [item for item in a if item[0] == max_occur]\n",
    "    modes = [x[1] for x in max_tuples]\n",
    "    print('Modes are:', modes, 'they each occur', max_occur, 'times')"
   ]
  },
  {
   "cell_type": "code",
   "execution_count": 12,
   "metadata": {},
   "outputs": [],
   "source": [
    "def menu3():\n",
    "    import statistics as stats\n",
    "    student_sorted_dict = sorted(student_dict, key=lambda x: x['Name']) \n",
    "    final_scores=[d['final_score'] for d in student_sorted_dict]\n",
    "    print('Number of students is: ',len(final_scores))\n",
    "    print('Min Final Score is : ',round(min(final_scores),ndigits=2))\n",
    "    print('Max Final Score is : ',max(final_scores))\n",
    "    print('Mean of Final Scores is : ',round(stats.mean(final_scores),ndigits=2))\n",
    "    print('Median of Final Scores is : ',stats.median(final_scores))\n",
    "    ##mode doesnt work cause multiple solutions\n",
    "    try:\n",
    "        print('Mode of Final Scores is : ',stats.mode(final_scores))\n",
    "    except stats.StatisticsError:\n",
    "        get_mode(final_scores)\n",
    "    print('Std dev of Final Scores is : ',round(stats.stdev(final_scores),ndigits=2))"
   ]
  },
  {
   "cell_type": "code",
   "execution_count": 13,
   "metadata": {},
   "outputs": [],
   "source": [
    "def menu4():\n",
    "    import statistics as stats\n",
    "    student_sorted_dict = sorted(student_dict, key=lambda x: x['Name']) \n",
    "    final_scores=[[d['final_score'],d['Name']]for d in student_sorted_dict]\n",
    "    mean_val = stats.mean([score[0] for score in final_scores])\n",
    "    std_dev_val = stats.stdev([score[0] for score in final_scores])\n",
    "    plus_two_sigma = [item for item in final_scores if item[0] > (mean_val+2*std_dev_val)]\n",
    "    print(\"These students/scores are +2 sigma:\",plus_two_sigma)"
   ]
  },
  {
   "cell_type": "code",
   "execution_count": 14,
   "metadata": {},
   "outputs": [],
   "source": [
    "def menu5():\n",
    "    import statistics as stats\n",
    "    student_sorted_dict = sorted(student_dict, key=lambda x: x['Name']) \n",
    "    letter_grades=[d['letter_grade'] for d in student_sorted_dict]\n",
    "    letter_grade_dist = [(grade,letter_grades.count(grade)) for grade in set(letter_grades)]\n",
    "    sizes = [grade_count[1] for grade_count in letter_grade_dist]\n",
    "    labels = [grade_count[0] for grade_count in letter_grade_dist]\n",
    "    fig1, ax1 = plt.subplots(figsize=(10,6))\n",
    "    ax1.pie(sizes, labels=labels, autopct='%1.1f%%', startangle=90,textprops={'fontsize': 14})\n",
    "    ax1.axis('equal')\n",
    "    ax1.set_title('Letter Grade Distribution', fontsize=18)\n",
    "    plt.show()"
   ]
  },
  {
   "cell_type": "code",
   "execution_count": 15,
   "metadata": {},
   "outputs": [],
   "source": [
    "def menu6():\n",
    "    import statistics as stats\n",
    "    import math\n",
    "    student_sorted_dict = sorted(student_dict, key=lambda x: x['Name']) \n",
    "    final_scores=[d['final_score'] for d in student_sorted_dict]\n",
    "    print('Min Final Score is : ',round(min(final_scores),ndigits=2))\n",
    "    print('Max Final Score is : ',max(final_scores))\n",
    "    print('Median of Final Scores is : ',stats.median(final_scores))\n",
    "    \n",
    "    student_sorted_dict = sorted(student_dict, key=lambda x: x['Name']) \n",
    "    final_scores=[d['final_score'] for d in student_sorted_dict]\n",
    "    final_scores_sorted = sorted(final_scores)\n",
    "    q1_pos = round(0.25*(len(final_scores_sorted)+1))\n",
    "    q3_pos = round(0.75*(len(final_scores_sorted)+1))\n",
    "    \n",
    "    if (q1_pos % 1 ==0):\n",
    "        q1=final_scores_sorted[q1_pos]\n",
    "    else:\n",
    "        q1 = (final_scores_sorted[math.floor(q1_pos)]+final_scores_sorted[math.ceil(q1_pos)])/2\n",
    "    \n",
    "    if (q3_pos % 1 ==0):\n",
    "        q3=final_scores_sorted[q3_pos]\n",
    "    else:\n",
    "        q1 = (final_scores_sorted[math.floor(q3_pos)]+final_scores_sorted[math.ceil(q3_pos)])/2\n",
    "    \n",
    "    print('Q1 value of Final Scores is: ',round(q1,ndigits=2))\n",
    "    print('Q3 value of Final Scores is: ',q3)\n",
    "\n",
    "    "
   ]
  },
  {
   "cell_type": "code",
   "execution_count": 16,
   "metadata": {},
   "outputs": [
    {
     "name": "stdout",
     "output_type": "stream",
     "text": [
      "------------------------- MENU -------------------------\n",
      "1. Load data set from exams.csv file\n",
      "2. Print a list of student names, final scores,\n",
      "   and letter grades sorted by names\n",
      "3. Print score summary\n",
      "4. Identify +2 sigma students\n",
      "5. Plot a pie chart of final grades distribution\n",
      "6. Compute box plot params (min, max, median, Q1, Q3)\n",
      "7. Exit system\n",
      "---------------------------------------------------------\n",
      "Enter your choice [1-7]: \n"
     ]
    },
    {
     "ename": "ValueError",
     "evalue": "invalid literal for int() with base 10: ''",
     "output_type": "error",
     "traceback": [
      "\u001b[1;31m---------------------------------------------------------------------------\u001b[0m",
      "\u001b[1;31mValueError\u001b[0m                                Traceback (most recent call last)",
      "\u001b[1;32m<ipython-input-16-805b3651c8a2>\u001b[0m in \u001b[0;36m<module>\u001b[1;34m\u001b[0m\n\u001b[0;32m      3\u001b[0m     \u001b[0mprint_menu\u001b[0m\u001b[1;33m(\u001b[0m\u001b[1;33m)\u001b[0m\u001b[1;33m\u001b[0m\u001b[1;33m\u001b[0m\u001b[0m\n\u001b[0;32m      4\u001b[0m     \u001b[0mselection\u001b[0m \u001b[1;33m=\u001b[0m \u001b[0minput\u001b[0m\u001b[1;33m(\u001b[0m\u001b[1;34m\"Enter your choice [1-7]: \"\u001b[0m\u001b[1;33m)\u001b[0m\u001b[1;33m\u001b[0m\u001b[1;33m\u001b[0m\u001b[0m\n\u001b[1;32m----> 5\u001b[1;33m     \u001b[0mselection\u001b[0m \u001b[1;33m=\u001b[0m \u001b[0mint\u001b[0m\u001b[1;33m(\u001b[0m\u001b[0mselection\u001b[0m\u001b[1;33m)\u001b[0m\u001b[1;33m\u001b[0m\u001b[1;33m\u001b[0m\u001b[0m\n\u001b[0m\u001b[0;32m      6\u001b[0m \u001b[1;33m\u001b[0m\u001b[0m\n\u001b[0;32m      7\u001b[0m     \u001b[1;32mif\u001b[0m \u001b[0mselection\u001b[0m\u001b[1;33m==\u001b[0m\u001b[1;36m1\u001b[0m\u001b[1;33m:\u001b[0m\u001b[1;33m\u001b[0m\u001b[1;33m\u001b[0m\u001b[0m\n",
      "\u001b[1;31mValueError\u001b[0m: invalid literal for int() with base 10: ''"
     ]
    }
   ],
   "source": [
    "loop = 1\n",
    "while loop==1:\n",
    "    print_menu()\n",
    "    selection = input(\"Enter your choice [1-7]: \")\n",
    "    selection = int(selection)\n",
    "    \n",
    "    if selection==1: \n",
    "        print('Selected option 1\\n')\n",
    "        menu1()\n",
    "    elif selection==2:\n",
    "        print('Selected option 2\\n')\n",
    "        menu2()\n",
    "    elif selection==3:\n",
    "        print('Selected option 3\\n')\n",
    "        menu3()\n",
    "    elif selection==4:\n",
    "        print('Selected option 4\\n')\n",
    "        menu4()\n",
    "    elif selection==5:\n",
    "        print('Selected option 5\\n')\n",
    "        menu5()\n",
    "    elif selection==6:\n",
    "        print('Selected option 6\\n')\n",
    "        menu6()\n",
    "    elif selection==7:\n",
    "        print('Exiting system')\n",
    "        loop = 0\n",
    "    else:\n",
    "        print('Not a valid selection')"
   ]
  },
  {
   "cell_type": "markdown",
   "metadata": {},
   "source": [
    "## Exercise 3 – Pick an extension library from PyPI or other sources.   Summarize the functionality provided by the library and show an example of usage"
   ]
  },
  {
   "cell_type": "markdown",
   "metadata": {},
   "source": [
    "I've chosen to discuss an open source python framework called Scrapy.  Scrapy is used for 'crawling' through web sites and extracting structured data.  This data can then be used for a wide range of applications like data mining, information processing or historical archival.  There are many web scraping packages for Python but Scrapy has gained popularity due to a few major advantages.  These being: low CPU usage, lower memory consumption, it has well-designed architecture resulting in robustness and flexibility, and easy to add custom functionalities to the pipeline."
   ]
  },
  {
   "cell_type": "markdown",
   "metadata": {},
   "source": [
    "Below is a usage example of scraping data from ???"
   ]
  },
  {
   "cell_type": "code",
   "execution_count": 1,
   "metadata": {},
   "outputs": [],
   "source": [
    "import scrapy\n",
    "from scrapy.crawler import CrawlerProcess"
   ]
  },
  {
   "cell_type": "code",
   "execution_count": 2,
   "metadata": {},
   "outputs": [],
   "source": [
    "class msia_blog_spider(scrapy.Spider):\n",
    "    name = 'msia_blog_spider'\n",
    "    start_urls = ['https://sites.northwestern.edu/msia/']\n",
    "    def parse(self, response):\n",
    "        blog_names = []\n",
    "        for blog in response.css(\"h2.entry-title\"):\n",
    "            title = blog.css('a::text').extract_first()\n",
    "            print(title)"
   ]
  },
  {
   "cell_type": "code",
   "execution_count": null,
   "metadata": {
    "scrolled": true
   },
   "outputs": [
    {
     "name": "stderr",
     "output_type": "stream",
     "text": [
      "2019-09-26 16:42:14 [scrapy.utils.log] INFO: Scrapy 1.7.3 started (bot: scrapybot)\n",
      "2019-09-26 16:42:14 [scrapy.utils.log] INFO: Versions: lxml 4.3.4.0, libxml2 2.9.9, cssselect 1.1.0, parsel 1.5.2, w3lib 1.21.0, Twisted 19.7.0, Python 3.7.3 (default, Apr 24 2019, 15:29:51) [MSC v.1915 64 bit (AMD64)], pyOpenSSL 19.0.0 (OpenSSL 1.1.1c  28 May 2019), cryptography 2.7, Platform Windows-10-10.0.17134-SP0\n",
      "2019-09-26 16:42:14 [scrapy.crawler] INFO: Overridden settings: {}\n",
      "2019-09-26 16:42:14 [scrapy.extensions.telnet] INFO: Telnet Password: 4ac255799e6a496d\n",
      "2019-09-26 16:42:14 [scrapy.middleware] INFO: Enabled extensions:\n",
      "['scrapy.extensions.corestats.CoreStats',\n",
      " 'scrapy.extensions.telnet.TelnetConsole',\n",
      " 'scrapy.extensions.logstats.LogStats']\n",
      "2019-09-26 16:42:15 [scrapy.middleware] INFO: Enabled downloader middlewares:\n",
      "['scrapy.downloadermiddlewares.httpauth.HttpAuthMiddleware',\n",
      " 'scrapy.downloadermiddlewares.downloadtimeout.DownloadTimeoutMiddleware',\n",
      " 'scrapy.downloadermiddlewares.defaultheaders.DefaultHeadersMiddleware',\n",
      " 'scrapy.downloadermiddlewares.useragent.UserAgentMiddleware',\n",
      " 'scrapy.downloadermiddlewares.retry.RetryMiddleware',\n",
      " 'scrapy.downloadermiddlewares.redirect.MetaRefreshMiddleware',\n",
      " 'scrapy.downloadermiddlewares.httpcompression.HttpCompressionMiddleware',\n",
      " 'scrapy.downloadermiddlewares.redirect.RedirectMiddleware',\n",
      " 'scrapy.downloadermiddlewares.cookies.CookiesMiddleware',\n",
      " 'scrapy.downloadermiddlewares.httpproxy.HttpProxyMiddleware',\n",
      " 'scrapy.downloadermiddlewares.stats.DownloaderStats']\n",
      "2019-09-26 16:42:15 [scrapy.middleware] INFO: Enabled spider middlewares:\n",
      "['scrapy.spidermiddlewares.httperror.HttpErrorMiddleware',\n",
      " 'scrapy.spidermiddlewares.offsite.OffsiteMiddleware',\n",
      " 'scrapy.spidermiddlewares.referer.RefererMiddleware',\n",
      " 'scrapy.spidermiddlewares.urllength.UrlLengthMiddleware',\n",
      " 'scrapy.spidermiddlewares.depth.DepthMiddleware']\n",
      "2019-09-26 16:42:15 [scrapy.middleware] INFO: Enabled item pipelines:\n",
      "[]\n",
      "2019-09-26 16:42:15 [scrapy.core.engine] INFO: Spider opened\n",
      "2019-09-26 16:42:15 [scrapy.extensions.logstats] INFO: Crawled 0 pages (at 0 pages/min), scraped 0 items (at 0 items/min)\n",
      "2019-09-26 16:42:15 [scrapy.extensions.telnet] INFO: Telnet console listening on 127.0.0.1:6024\n",
      "2019-09-26 16:42:16 [scrapy.core.engine] DEBUG: Crawled (200) <GET https://sites.northwestern.edu/msia/> (referer: None)\n",
      "2019-09-26 16:42:16 [scrapy.core.engine] INFO: Closing spider (finished)\n",
      "2019-09-26 16:42:16 [scrapy.statscollectors] INFO: Dumping Scrapy stats:\n",
      "{'downloader/request_bytes': 226,\n",
      " 'downloader/request_count': 1,\n",
      " 'downloader/request_method_count/GET': 1,\n",
      " 'downloader/response_bytes': 9396,\n",
      " 'downloader/response_count': 1,\n",
      " 'downloader/response_status_count/200': 1,\n",
      " 'elapsed_time_seconds': 0.856064,\n",
      " 'finish_reason': 'finished',\n",
      " 'finish_time': datetime.datetime(2019, 9, 26, 21, 42, 16, 126837),\n",
      " 'log_count/DEBUG': 1,\n",
      " 'log_count/INFO': 10,\n",
      " 'response_received_count': 1,\n",
      " 'scheduler/dequeued': 1,\n",
      " 'scheduler/dequeued/memory': 1,\n",
      " 'scheduler/enqueued': 1,\n",
      " 'scheduler/enqueued/memory': 1,\n",
      " 'start_time': datetime.datetime(2019, 9, 26, 21, 42, 15, 270773)}\n",
      "2019-09-26 16:42:16 [scrapy.core.engine] INFO: Spider closed (finished)\n"
     ]
    },
    {
     "name": "stdout",
     "output_type": "stream",
     "text": [
      "Using Skills to Define and Measure Job Demand\n",
      "Happy Baby to Goddess: Creativity in Yoga Sequencing with Markov Chains\n",
      "Chocolate Chips and Fish Sauce: A Network Analysis and Visualization in Ingredient Pairings\n",
      "Personalized Restaurant Recommender System Using A Hybrid Approach\n",
      "Introducing a new rating system for World Rugby Union based on the ELO Rating System: The ELOR (ELO-Rugby)\n",
      "AMI (Heart Attack) Likelihood Prediction Analysis\n",
      "Semantic Network Analysis of Ideological Communities on Twitter\n",
      "Real-Time Human Activity Classification in Videos\n",
      "Chicago Botanic Garden: Members Relationship Management Project\n",
      "Running a Marathon in 45 Seconds Flat\n"
     ]
    }
   ],
   "source": [
    "process = CrawlerProcess()\n",
    "process.crawl(msia_blog_spider)\n",
    "process.start()"
   ]
  },
  {
   "cell_type": "code",
   "execution_count": null,
   "metadata": {},
   "outputs": [],
   "source": []
  }
 ],
 "metadata": {
  "kernelspec": {
   "display_name": "Python 3",
   "language": "python",
   "name": "python3"
  },
  "language_info": {
   "codemirror_mode": {
    "name": "ipython",
    "version": 3
   },
   "file_extension": ".py",
   "mimetype": "text/x-python",
   "name": "python",
   "nbconvert_exporter": "python",
   "pygments_lexer": "ipython3",
   "version": "3.7.3"
  }
 },
 "nbformat": 4,
 "nbformat_minor": 2
}
